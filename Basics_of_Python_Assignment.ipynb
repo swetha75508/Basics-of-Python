{
  "cells": [
    {
      "cell_type": "code",
      "execution_count": null,
      "id": "c6d8ffa0-298b-46ef-819b-b784654c7a5e",
      "metadata": {
        "id": "c6d8ffa0-298b-46ef-819b-b784654c7a5e",
        "outputId": "ea8ce657-7b35-4ca7-a78a-ba184d70defd"
      },
      "outputs": [
        {
          "name": "stdin",
          "output_type": "stream",
          "text": [
            "enter any number to check whether a number is prime or not 19\n"
          ]
        },
        {
          "name": "stdout",
          "output_type": "stream",
          "text": [
            "19 is a prime number\n"
          ]
        }
      ],
      "source": [
        "# Write a Python program that checks whether a given number is prime or not\n",
        "\n",
        "num = int(input(\"enter any number to check whether a number is prime or not\"))\n",
        "\n",
        "if num <= 2:\n",
        "    print(num, \"is not a prime number\")\n",
        "\n",
        "else:\n",
        "\n",
        "    for i in range(2, num):\n",
        "        if (num % i) == 0:\n",
        "            print(num, \"is not a prime number\")\n",
        "            break\n",
        "\n",
        "    else:\n",
        "        print(num, \"is a prime number\")"
      ]
    },
    {
      "cell_type": "code",
      "execution_count": null,
      "id": "67a4cc4e-a950-4eaa-850a-1d6604e0fbd0",
      "metadata": {
        "id": "67a4cc4e-a950-4eaa-850a-1d6604e0fbd0",
        "outputId": "261641e3-0621-4730-8f9a-fb0a8b5b9dc4"
      },
      "outputs": [
        {
          "name": "stdin",
          "output_type": "stream",
          "text": [
            "What is the product of 3 and 11? 30\n"
          ]
        },
        {
          "name": "stdout",
          "output_type": "stream",
          "text": [
            "Answer is Incorrect.\n"
          ]
        }
      ],
      "source": [
        "# Product of Random Numbers\n",
        "import random\n",
        "\n",
        "num1 = random.randint(1,20)\n",
        "num2 = random.randint(1,20)\n",
        "\n",
        "# check the product of these two number\n",
        "product = num1 * num2\n",
        "\n",
        "# user answer\n",
        "user_answer = int(input(f\"What is the product of {num1} and {num2}?\"))\n",
        "if user_answer == product:\n",
        "    print(\"Answer is correct.\")\n",
        "\n",
        "else:\n",
        "    print(\"Answer is Incorrect.\")\n"
      ]
    },
    {
      "cell_type": "code",
      "execution_count": null,
      "id": "d166b2e7-10f1-43a0-a87c-9f72e4c5d37c",
      "metadata": {
        "id": "d166b2e7-10f1-43a0-a87c-9f72e4c5d37c",
        "outputId": "76f27997-7cb9-4518-b7d9-ad3a9a336b9f"
      },
      "outputs": [
        {
          "name": "stdout",
          "output_type": "stream",
          "text": [
            "Squares of Even Numbers:\n",
            "100 102 104 106 108 110 112 114 116 118 120 122 124 126 128 130 132 134 136 138 140 142 144 146 148 150 152 154 156 158 160 162 164 166 168 170 172 174 176 178 180 182 184 186 188 190 192 194 196 198  \n",
            "Squares of Odd Numbers:\n",
            "101 103 105 107 109 111 113 115 117 119 121 123 125 127 129 131 133 135 137 139 141 143 145 147 149 151 153 155 157 159 161 163 165 167 169 171 173 175 177 179 181 183 185 187 189 191 193 195 197 199 "
          ]
        }
      ],
      "source": [
        "# Square of Even/Odd number\n",
        "print('Squares of Even Numbers:')\n",
        "for i in range(100, 200):\n",
        "  if i % 2 == 0:\n",
        "    print(i, end=\" \")\n",
        "\n",
        "print(\" \") # new line\n",
        "print('Squares of Odd Numbers:')\n",
        "for i in range(100,200):\n",
        "  if i%2!=0: # != not equal to\n",
        "    print(i, end=\" \")"
      ]
    },
    {
      "cell_type": "code",
      "execution_count": null,
      "id": "4e3dd558-3928-4790-8573-a5e2f8a57ebe",
      "metadata": {
        "id": "4e3dd558-3928-4790-8573-a5e2f8a57ebe",
        "outputId": "79c2694b-87fe-4403-a194-bc1e432f78a9"
      },
      "outputs": [
        {
          "name": "stdout",
          "output_type": "stream",
          "text": [
            "Yes\n"
          ]
        }
      ],
      "source": [
        "# Check for Palindrome\n",
        "def isPalindrome(string):\n",
        "    return string == string[::-1]\n",
        "\n",
        "\n",
        "# Driver code\n",
        "string = \"radar\"\n",
        "string = \"level\"\n",
        "ans = isPalindrome(string)\n",
        "\n",
        "if ans:\n",
        "    print(\"Yes\")\n",
        "else:\n",
        "    print(\"No\")"
      ]
    },
    {
      "cell_type": "code",
      "execution_count": null,
      "id": "90678992-6794-4595-8899-5cc88793e632",
      "metadata": {
        "id": "90678992-6794-4595-8899-5cc88793e632"
      },
      "outputs": [],
      "source": []
    }
  ],
  "metadata": {
    "kernelspec": {
      "display_name": "Python 3 (ipykernel)",
      "language": "python",
      "name": "python3"
    },
    "language_info": {
      "codemirror_mode": {
        "name": "ipython",
        "version": 3
      },
      "file_extension": ".py",
      "mimetype": "text/x-python",
      "name": "python",
      "nbconvert_exporter": "python",
      "pygments_lexer": "ipython3",
      "version": "3.12.4"
    },
    "colab": {
      "provenance": []
    }
  },
  "nbformat": 4,
  "nbformat_minor": 5
}